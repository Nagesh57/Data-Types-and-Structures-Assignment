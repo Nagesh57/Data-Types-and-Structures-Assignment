{
  "nbformat": 4,
  "nbformat_minor": 0,
  "metadata": {
    "colab": {
      "provenance": []
    },
    "kernelspec": {
      "name": "python3",
      "display_name": "Python 3"
    },
    "language_info": {
      "name": "python"
    }
  },
  "cells": [
    {
      "cell_type": "markdown",
      "source": [
        "#Data Types and Structures Questions\n"
      ],
      "metadata": {
        "id": "lbBYgP-2KDWh"
      }
    },
    {
      "cell_type": "markdown",
      "source": [
        "#1. What are data structures, and why are they important?\n",
        "Answer:\n",
        "Data structures are specialized formats for organizing, processing, and storing data. They provide a means to manage large amounts of data efficiently for uses such as large databases and internet indexing services. Data structures are essential because they allow developers to handle data effectively for searching, insertion, deletion, and updating, directly impacting the performance and scalability of applications.\n",
        "\n",
        "#2. Explain the difference between mutable and immutable data types with examples.\n",
        "Answer:\n",
        "\n",
        "- Mutable data types can be changed after creation. Example: list, dict, set.\n",
        "\n",
        "a = [1, 2, 3]\n",
        "\n",
        "a[0] = 10  # Changes list content\n",
        "\n",
        "- Immutable data types cannot be altered after creation. Example: int, str, tuple.\n",
        "\n",
        "s = \"hello\"\n",
        "# s[0] = \"H\"  # This would cause an error\n",
        "\n",
        "#3. What are the main differences between lists and tuples in Python?\n",
        "Answer:\n",
        "\n",
        "Lists are mutable; tuples are immutable.\n",
        "\n",
        "Lists use square brackets [ ]; tuples use parentheses ( ).\n",
        "\n",
        "Lists are slower; tuples are faster due to immutability.\n",
        "\n",
        "Tuples can be used as dictionary keys; lists cannot.\n",
        "\n",
        "#4. Describe how dictionaries store data.\n",
        "Answer:\n",
        "Dictionaries store data in key-value pairs. Internally, they use a hash table where the keys are hashed to a particular index in a bucket. This allows fast retrieval and updates based on keys.\n",
        "\n",
        "#5. Why might you use a set instead of a list in Python?\n",
        "Answer:\n",
        "Sets are used when you want to store unique elements and don't care about the order. They offer faster membership testing and can perform operations like union, intersection, and difference efficiently.\n",
        "\n",
        "#6. What is a string in Python, and how is it different from a list?\n",
        "Answer:\n",
        "A string is an immutable sequence of Unicode characters. Unlike lists, strings cannot be modified once created. Lists are mutable and can contain mixed data types.\n",
        "\n",
        "#7. How do tuples ensure data integrity in Python?\n",
        "Answer:\n",
        "Since tuples are immutable, their contents cannot be changed after creation. This immutability ensures that the data remains constant and protected from accidental modification, which supports data integrity.\n",
        "\n",
        "#8. What is a hash table, and how does it relate to dictionaries in Python?\n",
        "Answer:\n",
        "A hash table is a data structure that maps keys to values using a hash function. Python dictionaries are implemented using hash tables, which allow constant-time complexity for lookups and updates.\n",
        "\n",
        "#9. Can lists contain different data types in Python?\n",
        "Answer:\n",
        "Yes, Python lists can contain elements of different data types, such as integers, strings, floats, or even other lists.\n",
        "\n",
        "#10. Explain why strings are immutable in Python.\n",
        "Answer:\n",
        "Strings are immutable to enhance performance and security. This allows strings to be safely shared across threads and used as dictionary keys without risking unintended modification.\n",
        "\n",
        "#11. What advantages do dictionaries offer over lists for certain tasks?\n",
        "Answer:\n",
        "Dictionaries offer faster lookups via keys (O(1) time complexity) compared to lists which require linear searches. They are ideal for key-value pair data, like configuration settings or lookup tables.\n",
        "\n",
        "#12. Describe a scenario where using a tuple would be preferable over a list.\n",
        "Answer:\n",
        "When you need to store fixed, unchangeable records (e.g., coordinates, database row entries), tuples are preferable because they are immutable and faster.\n",
        "\n",
        "#13. How do sets handle duplicate values in Python?\n",
        "Answer:\n",
        "Sets automatically remove duplicates. Any repeated elements are ignored and stored only once in the set.\n",
        "\n",
        "#14. How does the “in” keyword work differently for lists and dictionaries?\n",
        "Answer:\n",
        "\n",
        "- For lists, in checks if an element exists in the list.\n",
        "\n",
        "- For dictionaries, in checks if a key exists, not a value.\n",
        "\n",
        "#15. Can you modify the elements of a tuple? Explain why or why not.\n",
        "Answer:\n",
        "No, tuples are immutable. Once created, you cannot change, add, or remove elements.\n",
        "\n",
        "#16. What is a nested dictionary, and give an example of its use case.\n",
        "Answer:\n",
        "A nested dictionary is a dictionary inside another dictionary.\n",
        "Example:\n",
        "\n",
        "student = {\"name\": \"John\", \"marks\": {\"math\": 90, \"science\": 85}}\n",
        "\n",
        "\n",
        "#17. Describe the time complexity of accessing elements in a dictionary.\n",
        "Answer:\n",
        "Accessing elements in a dictionary is O(1) on average, due to the hash table implementation.\n",
        "\n",
        "#18. In what situations are lists preferred over dictionaries?\n",
        "Answer:\n",
        "Lists are preferred when order is important or when storing a sequence of elements without named keys, such as a collection of items or loop-based iterations.\n",
        "\n",
        "#19. Why are dictionaries considered unordered, and how does that affect data retrieval?\n",
        "Answer:\n",
        "Historically, dictionaries were unordered before Python 3.7. While now insertion order is preserved, conceptually they are still used for key-based access, not position-based retrieval like lists.\n",
        "\n",
        "#20. Explain the difference between a list and a dictionary in terms of data retrieval.\n",
        "Answer:\n",
        "\n",
        "- Lists retrieve data by index (position-based).\n",
        "\n",
        "- Dictionaries retrieve data by key (key-value pair-based)."
      ],
      "metadata": {
        "id": "uSpKNEh3MDqp"
      }
    },
    {
      "cell_type": "markdown",
      "source": [
        "#Practical Questions"
      ],
      "metadata": {
        "id": "a9gENnhMNjN3"
      }
    },
    {
      "cell_type": "markdown",
      "source": [
        "#1. Write a code to create a string with your name and print it"
      ],
      "metadata": {
        "id": "SFkPhtUeNzbz"
      }
    },
    {
      "cell_type": "code",
      "source": [
        "name = \"John Doe\"\n",
        "print(name)\n"
      ],
      "metadata": {
        "colab": {
          "base_uri": "https://localhost:8080/"
        },
        "id": "NgqJr9sINwlv",
        "outputId": "8a3d110f-475f-4830-b809-8dc745fea0c4"
      },
      "execution_count": 10,
      "outputs": [
        {
          "output_type": "stream",
          "name": "stdout",
          "text": [
            "John Doe\n"
          ]
        }
      ]
    },
    {
      "cell_type": "markdown",
      "source": [
        "#2. Write a code to find the length of the string \"Hello World\"\n",
        "\n"
      ],
      "metadata": {
        "id": "eSEd6FH5N837"
      }
    },
    {
      "cell_type": "code",
      "source": [
        "s = \"Hello World\"\n",
        "print(len(s))\n"
      ],
      "metadata": {
        "colab": {
          "base_uri": "https://localhost:8080/"
        },
        "id": "7LrWSBFFOBr2",
        "outputId": "74f405a3-2f78-46ab-d490-bda62db04157"
      },
      "execution_count": 11,
      "outputs": [
        {
          "output_type": "stream",
          "name": "stdout",
          "text": [
            "11\n"
          ]
        }
      ]
    },
    {
      "cell_type": "markdown",
      "source": [
        "#3. Write a code to slice the first 3 characters from the string \"Python Programming\""
      ],
      "metadata": {
        "id": "Qtr5MJBhOIhO"
      }
    },
    {
      "cell_type": "code",
      "source": [
        "text = \"Python Programming\"\n",
        "print(text[:3])\n"
      ],
      "metadata": {
        "colab": {
          "base_uri": "https://localhost:8080/"
        },
        "id": "RZYHKn0SOJz5",
        "outputId": "c433fbac-8ccb-4eef-b9ec-6aab2eba999c"
      },
      "execution_count": 12,
      "outputs": [
        {
          "output_type": "stream",
          "name": "stdout",
          "text": [
            "Pyt\n"
          ]
        }
      ]
    },
    {
      "cell_type": "markdown",
      "source": [
        "#4. Write a code to convert the string \"hello\" to uppercase"
      ],
      "metadata": {
        "id": "VN3xKsKdOM-p"
      }
    },
    {
      "cell_type": "code",
      "source": [
        "print(\"hello\".upper())\n"
      ],
      "metadata": {
        "colab": {
          "base_uri": "https://localhost:8080/"
        },
        "id": "rJTr3BvyOSOd",
        "outputId": "1ed89687-8464-4912-ff1d-39563d172df5"
      },
      "execution_count": 13,
      "outputs": [
        {
          "output_type": "stream",
          "name": "stdout",
          "text": [
            "HELLO\n"
          ]
        }
      ]
    },
    {
      "cell_type": "markdown",
      "source": [
        "#5. Write a code to replace the word \"apple\" with \"orange\" in the string \"I like apple\""
      ],
      "metadata": {
        "id": "XR8qR0EbOWe8"
      }
    },
    {
      "cell_type": "code",
      "source": [
        "s = \"I like apple\"\n",
        "print(s.replace(\"apple\", \"orange\"))\n"
      ],
      "metadata": {
        "colab": {
          "base_uri": "https://localhost:8080/"
        },
        "id": "2oiXfXvIOZgl",
        "outputId": "c51be2fd-3f99-4927-8659-7e9357dffac3"
      },
      "execution_count": 14,
      "outputs": [
        {
          "output_type": "stream",
          "name": "stdout",
          "text": [
            "I like orange\n"
          ]
        }
      ]
    },
    {
      "cell_type": "markdown",
      "source": [
        "#6. Write a code to create a list with numbers 1 to 5 and print it"
      ],
      "metadata": {
        "id": "qbnJSzbROhGm"
      }
    },
    {
      "cell_type": "code",
      "source": [
        "numbers = [1, 2, 3, 4, 5]\n",
        "print(numbers)\n"
      ],
      "metadata": {
        "colab": {
          "base_uri": "https://localhost:8080/"
        },
        "id": "RzVGkjJpOk9r",
        "outputId": "40b93fd5-65fa-4c69-eb60-a9edd69e5f3a"
      },
      "execution_count": 15,
      "outputs": [
        {
          "output_type": "stream",
          "name": "stdout",
          "text": [
            "[1, 2, 3, 4, 5]\n"
          ]
        }
      ]
    },
    {
      "cell_type": "markdown",
      "source": [
        "#7. Write a code to append the number 10 to the list [1, 2, 3, 4]"
      ],
      "metadata": {
        "id": "iRMBOKxoOniD"
      }
    },
    {
      "cell_type": "code",
      "source": [
        "lst = [1, 2, 3, 4]\n",
        "lst.append(10)\n",
        "print(lst)\n"
      ],
      "metadata": {
        "colab": {
          "base_uri": "https://localhost:8080/"
        },
        "id": "LFoycfuwOqwI",
        "outputId": "9b94d82f-feb5-4108-8def-f2b317f776e5"
      },
      "execution_count": 16,
      "outputs": [
        {
          "output_type": "stream",
          "name": "stdout",
          "text": [
            "[1, 2, 3, 4, 10]\n"
          ]
        }
      ]
    },
    {
      "cell_type": "markdown",
      "source": [
        "#8. Write a code to remove the number 3 from the list [1, 2, 3, 4, 5]"
      ],
      "metadata": {
        "id": "oBJbW8zxOuvJ"
      }
    },
    {
      "cell_type": "code",
      "source": [
        "lst = [1, 2, 3, 4, 5]\n",
        "lst.remove(3)\n",
        "print(lst)\n"
      ],
      "metadata": {
        "colab": {
          "base_uri": "https://localhost:8080/"
        },
        "id": "fo54O6-aOxnt",
        "outputId": "116067f7-3095-4ea1-d58e-16292c8bf56b"
      },
      "execution_count": 17,
      "outputs": [
        {
          "output_type": "stream",
          "name": "stdout",
          "text": [
            "[1, 2, 4, 5]\n"
          ]
        }
      ]
    },
    {
      "cell_type": "markdown",
      "source": [
        "#9. Write a code to access the second element in the list ['a', 'b', 'c', 'd']"
      ],
      "metadata": {
        "id": "GWh0fj0BO11t"
      }
    },
    {
      "cell_type": "code",
      "source": [
        "lst = ['a', 'b', 'c', 'd']\n",
        "print(lst[1])\n"
      ],
      "metadata": {
        "colab": {
          "base_uri": "https://localhost:8080/"
        },
        "id": "npYIMk8BO6XH",
        "outputId": "8319a81c-62e5-47fc-e803-81bc4bac3865"
      },
      "execution_count": 18,
      "outputs": [
        {
          "output_type": "stream",
          "name": "stdout",
          "text": [
            "b\n"
          ]
        }
      ]
    },
    {
      "cell_type": "markdown",
      "source": [
        "#10. Write a code to reverse the list [10, 20, 30, 40, 50]"
      ],
      "metadata": {
        "id": "FcpvAG7zO9IT"
      }
    },
    {
      "cell_type": "code",
      "source": [
        "lst = [10, 20, 30, 40, 50]\n",
        "print(lst[::-1])\n"
      ],
      "metadata": {
        "colab": {
          "base_uri": "https://localhost:8080/"
        },
        "id": "WqITXZykO_70",
        "outputId": "2f799799-15bc-4089-87e4-802738581094"
      },
      "execution_count": 19,
      "outputs": [
        {
          "output_type": "stream",
          "name": "stdout",
          "text": [
            "[50, 40, 30, 20, 10]\n"
          ]
        }
      ]
    },
    {
      "cell_type": "markdown",
      "source": [
        "#11. Write a code to create a tuple with the elements 100, 200, 300 and print it"
      ],
      "metadata": {
        "id": "4YMB-MNfPDAB"
      }
    },
    {
      "cell_type": "code",
      "source": [
        "tup = (100, 200, 300)\n",
        "print(tup)\n"
      ],
      "metadata": {
        "colab": {
          "base_uri": "https://localhost:8080/"
        },
        "id": "1p9Myw2SPGyc",
        "outputId": "71f298a3-43cc-4b0c-d5fb-ee3cee3055bd"
      },
      "execution_count": 20,
      "outputs": [
        {
          "output_type": "stream",
          "name": "stdout",
          "text": [
            "(100, 200, 300)\n"
          ]
        }
      ]
    },
    {
      "cell_type": "markdown",
      "source": [
        "#12. Write a code to access the second-to-last element of the tuple ('red', 'green', 'blue', 'yellow')"
      ],
      "metadata": {
        "id": "UadwCWQzPK_L"
      }
    },
    {
      "cell_type": "code",
      "source": [
        "tup = ('red', 'green', 'blue', 'yellow')\n",
        "print(tup[-2])\n"
      ],
      "metadata": {
        "colab": {
          "base_uri": "https://localhost:8080/"
        },
        "id": "ZY1CTBq1PNHG",
        "outputId": "eeff33e0-5785-46c4-d48e-25a7a9f33b4a"
      },
      "execution_count": 21,
      "outputs": [
        {
          "output_type": "stream",
          "name": "stdout",
          "text": [
            "blue\n"
          ]
        }
      ]
    },
    {
      "cell_type": "markdown",
      "source": [
        "#13. Write a code to find the minimum number in the tuple (10, 20, 5, 15)"
      ],
      "metadata": {
        "id": "nnUCspiSPRND"
      }
    },
    {
      "cell_type": "code",
      "source": [
        "tup = (10, 20, 5, 15)\n",
        "print(min(tup))\n"
      ],
      "metadata": {
        "colab": {
          "base_uri": "https://localhost:8080/"
        },
        "id": "gVeFEEjmPUR2",
        "outputId": "226ef722-0077-4821-d9f4-4f373b2bc749"
      },
      "execution_count": 22,
      "outputs": [
        {
          "output_type": "stream",
          "name": "stdout",
          "text": [
            "5\n"
          ]
        }
      ]
    },
    {
      "cell_type": "markdown",
      "source": [
        "#14. Write a code to find the index of the element \"cat\" in the tuple ('dog', 'cat', 'rabbit')"
      ],
      "metadata": {
        "id": "lHH7Wc5tPYND"
      }
    },
    {
      "cell_type": "code",
      "source": [
        "tup = ('dog', 'cat', 'rabbit')\n",
        "print(tup.index(\"cat\"))\n"
      ],
      "metadata": {
        "colab": {
          "base_uri": "https://localhost:8080/"
        },
        "id": "jIYRT-PxPd23",
        "outputId": "49be429b-4444-4643-e7d7-8d98ad9208cd"
      },
      "execution_count": 23,
      "outputs": [
        {
          "output_type": "stream",
          "name": "stdout",
          "text": [
            "1\n"
          ]
        }
      ]
    },
    {
      "cell_type": "markdown",
      "source": [
        "#15. Write a code to create a tuple containing three different fruits and check if \"kiwi\" is in it"
      ],
      "metadata": {
        "id": "DFFwXtLWPjkZ"
      }
    },
    {
      "cell_type": "code",
      "source": [
        "fruits = (\"apple\", \"banana\", \"mango\")\n",
        "print(\"kiwi\" in fruits)\n"
      ],
      "metadata": {
        "colab": {
          "base_uri": "https://localhost:8080/"
        },
        "id": "wHtm-U-WPnHB",
        "outputId": "7f37d8cb-7b67-4145-836c-557e27144067"
      },
      "execution_count": 24,
      "outputs": [
        {
          "output_type": "stream",
          "name": "stdout",
          "text": [
            "False\n"
          ]
        }
      ]
    },
    {
      "cell_type": "markdown",
      "source": [
        "#16. Write a code to create a set with the elements 'a', 'b', 'c' and print it"
      ],
      "metadata": {
        "id": "T3ybU7MZPtKz"
      }
    },
    {
      "cell_type": "code",
      "source": [
        "s = {'a', 'b', 'c'}\n",
        "print(s)\n"
      ],
      "metadata": {
        "colab": {
          "base_uri": "https://localhost:8080/"
        },
        "id": "-iyleTF6Pwkk",
        "outputId": "98d20587-c9bd-4148-c16c-47b0994f08a3"
      },
      "execution_count": 25,
      "outputs": [
        {
          "output_type": "stream",
          "name": "stdout",
          "text": [
            "{'a', 'b', 'c'}\n"
          ]
        }
      ]
    },
    {
      "cell_type": "markdown",
      "source": [
        "#17. Write a code to clear all elements from the set {1, 2, 3, 4, 5}"
      ],
      "metadata": {
        "id": "nqjcGhFgPz_B"
      }
    },
    {
      "cell_type": "code",
      "source": [
        "s = {1, 2, 3, 4, 5}\n",
        "s.clear()\n",
        "print(s)\n"
      ],
      "metadata": {
        "colab": {
          "base_uri": "https://localhost:8080/"
        },
        "id": "SiFH9KqGP3Ve",
        "outputId": "878456c7-5af6-482a-c507-7dd8091a0286"
      },
      "execution_count": 26,
      "outputs": [
        {
          "output_type": "stream",
          "name": "stdout",
          "text": [
            "set()\n"
          ]
        }
      ]
    },
    {
      "cell_type": "markdown",
      "source": [
        "#18. Write a code to remove the element 4 from the set {1, 2, 3, 4}"
      ],
      "metadata": {
        "id": "VxBgkp2hP-ET"
      }
    },
    {
      "cell_type": "code",
      "source": [
        "s = {1, 2, 3, 4}\n",
        "s.remove(4)\n",
        "print(s)\n"
      ],
      "metadata": {
        "colab": {
          "base_uri": "https://localhost:8080/"
        },
        "id": "w84yaz4NP_f2",
        "outputId": "3ef6b65f-53db-4232-b48c-3cd43ba64690"
      },
      "execution_count": 27,
      "outputs": [
        {
          "output_type": "stream",
          "name": "stdout",
          "text": [
            "{1, 2, 3}\n"
          ]
        }
      ]
    },
    {
      "cell_type": "markdown",
      "source": [
        "#19. Write a code to find the union of two sets {1, 2, 3} and {3, 4, 5}"
      ],
      "metadata": {
        "id": "qPFANl-iQC4d"
      }
    },
    {
      "cell_type": "code",
      "source": [
        "a = {1, 2, 3}\n",
        "b = {3, 4, 5}\n",
        "print(a.union(b))\n"
      ],
      "metadata": {
        "colab": {
          "base_uri": "https://localhost:8080/"
        },
        "id": "cnLyb6aUQFeu",
        "outputId": "50b8bb7a-f306-43f4-f822-449f67db7180"
      },
      "execution_count": 28,
      "outputs": [
        {
          "output_type": "stream",
          "name": "stdout",
          "text": [
            "{1, 2, 3, 4, 5}\n"
          ]
        }
      ]
    },
    {
      "cell_type": "markdown",
      "source": [
        "#20. Write a code to find the intersection of two sets {1, 2, 3} and {2, 3, 4}"
      ],
      "metadata": {
        "id": "OAJ8xSAFQNVJ"
      }
    },
    {
      "cell_type": "code",
      "source": [
        "a = {1, 2, 3}\n",
        "b = {2, 3, 4}\n",
        "print(a.intersection(b))\n"
      ],
      "metadata": {
        "colab": {
          "base_uri": "https://localhost:8080/"
        },
        "id": "HZpnndytQP0a",
        "outputId": "e0449405-b495-494c-c1d6-0befbf3efa50"
      },
      "execution_count": 29,
      "outputs": [
        {
          "output_type": "stream",
          "name": "stdout",
          "text": [
            "{2, 3}\n"
          ]
        }
      ]
    },
    {
      "cell_type": "markdown",
      "source": [
        "#21. Write a code to create a dictionary with the keys \"name\", \"age\", and \"city\", and print it"
      ],
      "metadata": {
        "id": "vD4seq5cQUoj"
      }
    },
    {
      "cell_type": "code",
      "source": [
        "d = {\"name\": \"Alice\", \"age\": 25, \"city\": \"New York\"}\n",
        "print(d)\n"
      ],
      "metadata": {
        "colab": {
          "base_uri": "https://localhost:8080/"
        },
        "id": "hIFfkdizQW_w",
        "outputId": "33de95ee-e52e-4433-afc0-fcf240d9f19d"
      },
      "execution_count": 30,
      "outputs": [
        {
          "output_type": "stream",
          "name": "stdout",
          "text": [
            "{'name': 'Alice', 'age': 25, 'city': 'New York'}\n"
          ]
        }
      ]
    },
    {
      "cell_type": "markdown",
      "source": [
        "#22. Write a code to add a new key-value pair \"country\": \"USA\" to the dictionary {'name': 'John', 'age': 25}"
      ],
      "metadata": {
        "id": "OhrdTTAYQY7T"
      }
    },
    {
      "cell_type": "code",
      "source": [
        "d = {'name': 'John', 'age': 25}\n",
        "d['country'] = 'USA'\n",
        "print(d)\n"
      ],
      "metadata": {
        "colab": {
          "base_uri": "https://localhost:8080/"
        },
        "id": "Glg24D7EQeMH",
        "outputId": "becf49d9-f78d-4012-aa14-9d3ac4e6d4f5"
      },
      "execution_count": 31,
      "outputs": [
        {
          "output_type": "stream",
          "name": "stdout",
          "text": [
            "{'name': 'John', 'age': 25, 'country': 'USA'}\n"
          ]
        }
      ]
    },
    {
      "cell_type": "markdown",
      "source": [
        "#23. Write a code to access the value associated with the key \"name\" in the dictionary {'name': 'Alice', 'age': 30}"
      ],
      "metadata": {
        "id": "2vO5hfDRQirb"
      }
    },
    {
      "cell_type": "code",
      "source": [
        "d = {'name': 'Alice', 'age': 30}\n",
        "print(d['name'])\n"
      ],
      "metadata": {
        "colab": {
          "base_uri": "https://localhost:8080/"
        },
        "id": "4hSCxnDFQm8J",
        "outputId": "80e71dd6-7057-4240-81ac-c130593576be"
      },
      "execution_count": 32,
      "outputs": [
        {
          "output_type": "stream",
          "name": "stdout",
          "text": [
            "Alice\n"
          ]
        }
      ]
    },
    {
      "cell_type": "markdown",
      "source": [
        "#24. Write a code to remove the key \"age\" from the dictionary {'name': 'Bob', 'age': 22, 'city': 'New York'}"
      ],
      "metadata": {
        "id": "voizJUXGQo8g"
      }
    },
    {
      "cell_type": "code",
      "source": [
        "d = {'name': 'Bob', 'age': 22, 'city': 'New York'}\n",
        "del d['age']\n",
        "print(d)\n"
      ],
      "metadata": {
        "colab": {
          "base_uri": "https://localhost:8080/"
        },
        "id": "qNNE3JdbQsO-",
        "outputId": "bf579827-5f79-483b-94b9-bb2958f11236"
      },
      "execution_count": 33,
      "outputs": [
        {
          "output_type": "stream",
          "name": "stdout",
          "text": [
            "{'name': 'Bob', 'city': 'New York'}\n"
          ]
        }
      ]
    },
    {
      "cell_type": "markdown",
      "source": [
        "#25. Write a code to check if the key \"city\" exists in the dictionary {'name': 'Alice', 'city': 'Paris'}"
      ],
      "metadata": {
        "id": "ON9eRgDnQvbT"
      }
    },
    {
      "cell_type": "code",
      "source": [
        "d = {'name': 'Alice', 'city': 'Paris'}\n",
        "print(\"city\" in d)\n"
      ],
      "metadata": {
        "colab": {
          "base_uri": "https://localhost:8080/"
        },
        "id": "8KLNgtYUQ4wu",
        "outputId": "3bb70017-d8e4-4f5c-ce02-cea956682974"
      },
      "execution_count": 34,
      "outputs": [
        {
          "output_type": "stream",
          "name": "stdout",
          "text": [
            "True\n"
          ]
        }
      ]
    },
    {
      "cell_type": "markdown",
      "source": [
        "#26. Write a code to create a list, a tuple, and a dictionary, and print them all"
      ],
      "metadata": {
        "id": "X4yhJntnQ7gQ"
      }
    },
    {
      "cell_type": "code",
      "source": [
        "lst = [1, 2, 3]\n",
        "tup = (4, 5, 6)\n",
        "dct = {\"a\": 7, \"b\": 8}\n",
        "print(lst, tup, dct)\n"
      ],
      "metadata": {
        "colab": {
          "base_uri": "https://localhost:8080/"
        },
        "id": "-Igd4zjUQ9_d",
        "outputId": "8cfe0d0e-f7f2-4e93-f8bc-9fd79bb401d1"
      },
      "execution_count": 35,
      "outputs": [
        {
          "output_type": "stream",
          "name": "stdout",
          "text": [
            "[1, 2, 3] (4, 5, 6) {'a': 7, 'b': 8}\n"
          ]
        }
      ]
    },
    {
      "cell_type": "markdown",
      "source": [
        "#27. Write a code to create a list of 5 random numbers between 1 and 100, sort it in ascending order, and print the result"
      ],
      "metadata": {
        "id": "AaTwylhBRCfX"
      }
    },
    {
      "cell_type": "code",
      "source": [
        "import random\n",
        "lst = random.sample(range(1, 101), 5)\n",
        "lst.sort()\n",
        "print(lst)\n"
      ],
      "metadata": {
        "colab": {
          "base_uri": "https://localhost:8080/"
        },
        "id": "AjUu2fVoRFCp",
        "outputId": "90df1143-f167-4b5e-bd7c-390644493b6b"
      },
      "execution_count": 36,
      "outputs": [
        {
          "output_type": "stream",
          "name": "stdout",
          "text": [
            "[17, 28, 50, 77, 96]\n"
          ]
        }
      ]
    },
    {
      "cell_type": "markdown",
      "source": [
        "#28. Write a code to create a list with strings and print the element at the third index"
      ],
      "metadata": {
        "id": "3-nr1hVSRJGL"
      }
    },
    {
      "cell_type": "code",
      "source": [
        "lst = [\"apple\", \"banana\", \"cherry\", \"date\", \"fig\"]\n",
        "print(lst[3])  # prints \"date\"\n"
      ],
      "metadata": {
        "colab": {
          "base_uri": "https://localhost:8080/"
        },
        "id": "xr08xLHFRL4q",
        "outputId": "8d7b2b04-eff5-4b2e-d412-917a3c5cb90b"
      },
      "execution_count": 44,
      "outputs": [
        {
          "output_type": "stream",
          "name": "stdout",
          "text": [
            "date\n"
          ]
        }
      ]
    },
    {
      "cell_type": "markdown",
      "source": [
        "#29. Write a code to combine two dictionaries into one and print the result"
      ],
      "metadata": {
        "id": "PVq6oBpxRWmY"
      }
    },
    {
      "cell_type": "code",
      "source": [
        "d1 = {\"a\": 1, \"b\": 2}\n",
        "d2 = {\"c\": 3, \"d\": 4}\n",
        "d1.update(d2)\n",
        "print(d1)\n"
      ],
      "metadata": {
        "colab": {
          "base_uri": "https://localhost:8080/"
        },
        "id": "lDrOMItWRXq4",
        "outputId": "ef16e974-6312-40d3-e22b-e83b089dac8e"
      },
      "execution_count": 39,
      "outputs": [
        {
          "output_type": "stream",
          "name": "stdout",
          "text": [
            "{'a': 1, 'b': 2, 'c': 3, 'd': 4}\n"
          ]
        }
      ]
    },
    {
      "cell_type": "markdown",
      "source": [
        "#30. Write a code to convert a list of strings into a set"
      ],
      "metadata": {
        "id": "BWMcAgssRaIt"
      }
    },
    {
      "cell_type": "code",
      "source": [
        "lst = [\"apple\", \"banana\", \"apple\"]\n",
        "s = set(lst)\n",
        "print(s)\n"
      ],
      "metadata": {
        "colab": {
          "base_uri": "https://localhost:8080/"
        },
        "id": "qTIZf0mfRccU",
        "outputId": "bb449f2a-2c50-4835-91d6-e2248d375222"
      },
      "execution_count": 40,
      "outputs": [
        {
          "output_type": "stream",
          "name": "stdout",
          "text": [
            "{'apple', 'banana'}\n"
          ]
        }
      ]
    }
  ]
}